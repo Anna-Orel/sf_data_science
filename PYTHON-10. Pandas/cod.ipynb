import pandas as pd
pd.__version__